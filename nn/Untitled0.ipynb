{
 "metadata": {
  "name": ""
 },
 "nbformat": 3,
 "nbformat_minor": 0,
 "worksheets": [
  {
   "cells": [
    {
     "cell_type": "code",
     "collapsed": false,
     "input": [
      "from pybrain.tools.shortcuts import buildNetwork\n",
      "from pybrain.supervised.trainers import BackpropTrainer\n",
      "from pybrain.datasets import SupervisedDataSet,UnsupervisedDataSet\n",
      "from pybrain.structure import LinearLayer\n",
      "\n",
      "\n",
      "data = [i+6 for i in xrange(21)]\n",
      "\n",
      "'''\n",
      "l = len(data)\n",
      "l2 = l/2 # do we really need a data set which is of an even length?\n",
      "l2 = 21\n",
      "\n",
      "ds = SupervisedDataSet(l2, l2)\n",
      "\n",
      "ds.addSample(data[:21],data[21:42])\n",
      "net = buildNetwork(l2, l2-1, l2, outclass=LinearLayer,bias=True, recurrent=True)\n",
      "trainer = BackpropTrainer(net, ds)\n",
      "trainer.trainEpochs(100)\n",
      "'''\n",
      "\n",
      "\n",
      "ts = UnsupervisedDataSet(21,)\n",
      "ts.addSample(data[0:21])\n",
      "x = [ round(i) for i in net.activateOnDataset(ts)[0]]\n",
      "print x\n",
      "\n",
      "\n"
     ],
     "language": "python",
     "metadata": {},
     "outputs": [
      {
       "output_type": "stream",
       "stream": "stdout",
       "text": [
        "[27.0, 28.0, 29.0, 30.0, 31.0, 32.0, 33.0, 34.0, 35.0, 36.0, 37.0, 38.0, 39.0, 40.0, 41.0, 42.0, 43.0, 44.0, 45.0, 46.0, 47.0]\n"
       ]
      }
     ],
     "prompt_number": 44
    },
    {
     "cell_type": "code",
     "collapsed": false,
     "input": [
      "import matplotlib.pyplot\n",
      "%matplotlib inline\n",
      "import seaborn\n",
      "\n",
      "fig = matplotlib.pyplot.figure()\n",
      "ax1 = fig.add_subplot(211)\n",
      "\n",
      "full_data = data + x\n",
      "\n",
      "ax1.plot([i for i in xrange(len(full_data))],full_data, 'k', label='Actual')"
     ],
     "language": "python",
     "metadata": {},
     "outputs": [
      {
       "metadata": {},
       "output_type": "pyout",
       "prompt_number": 43,
       "text": [
        "[<matplotlib.lines.Line2D at 0x10dc4fed0>]"
       ]
      },
      {
       "metadata": {},
       "output_type": "display_data",
       "png": "[encoded data removed]",
       "text": [
        "<matplotlib.figure.Figure at 0x10db602d0>"
       ]
      }
     ],
     "prompt_number": 43
    },
    {
     "cell_type": "code",
     "collapsed": false,
     "input": [],
     "language": "python",
     "metadata": {},
     "outputs": []
    }
   ],
   "metadata": {}
  }
 ]
}